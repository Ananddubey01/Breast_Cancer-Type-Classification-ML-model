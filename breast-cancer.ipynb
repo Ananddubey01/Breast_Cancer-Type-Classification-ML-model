{
 "cells": [
  {
   "cell_type": "code",
   "execution_count": 1,
   "metadata": {
    "_cell_guid": "b1076dfc-b9ad-4769-8c92-a6c4dae69d19",
    "_uuid": "8f2839f25d086af736a60e9eeb907d3b93b6e0e5",
    "execution": {
     "iopub.execute_input": "2020-08-13T10:37:42.227702Z",
     "iopub.status.busy": "2020-08-13T10:37:42.226667Z",
     "iopub.status.idle": "2020-08-13T10:37:42.231195Z",
     "shell.execute_reply": "2020-08-13T10:37:42.230565Z"
    },
    "papermill": {
     "duration": 0.024111,
     "end_time": "2020-08-13T10:37:42.231344",
     "exception": false,
     "start_time": "2020-08-13T10:37:42.207233",
     "status": "completed"
    },
    "tags": []
   },
   "outputs": [
    {
     "name": "stdout",
     "output_type": "stream",
     "text": [
      "/kaggle/input/breast-cancer/train.csv\n",
      "/kaggle/input/breast-cancer/test.csv\n",
      "/kaggle/input/breast-cancer/sample-submission.csv\n"
     ]
    }
   ],
   "source": [
    "# This Python 3 environment comes with many helpful analytics libraries installed\n",
    "# It is defined by the kaggle/python Docker image: https://github.com/kaggle/docker-python\n",
    "# For example, here's several helpful packages to load\n",
    "\n",
    "import numpy as np # linear algebra\n",
    "import pandas as pd # data processing, CSV file I/O (e.g. pd.read_csv)\n",
    "\n",
    "# Input data files are available in the read-only \"../input/\" directory\n",
    "# For example, running this (by clicking run or pressing Shift+Enter) will list all files under the input directory\n",
    "\n",
    "import os\n",
    "for dirname, _, filenames in os.walk('/kaggle/input'):\n",
    "    for filename in filenames:\n",
    "        print(os.path.join(dirname, filename))\n",
    "\n",
    "# You can write up to 5GB to the current directory (/kaggle/working/) that gets preserved as output when you create a version using \"Save & Run All\" \n",
    "# You can also write temporary files to /kaggle/temp/, but they won't be saved outside of the current session"
   ]
  },
  {
   "cell_type": "code",
   "execution_count": 2,
   "metadata": {
    "_cell_guid": "79c7e3d0-c299-4dcb-8224-4455121ee9b0",
    "_uuid": "d629ff2d2480ee46fbb7e2d37f6b5fab8052498a",
    "execution": {
     "iopub.execute_input": "2020-08-13T10:37:42.262257Z",
     "iopub.status.busy": "2020-08-13T10:37:42.261455Z",
     "iopub.status.idle": "2020-08-13T10:37:42.297439Z",
     "shell.execute_reply": "2020-08-13T10:37:42.298341Z"
    },
    "papermill": {
     "duration": 0.056205,
     "end_time": "2020-08-13T10:37:42.298766",
     "exception": false,
     "start_time": "2020-08-13T10:37:42.242561",
     "status": "completed"
    },
    "tags": []
   },
   "outputs": [
    {
     "name": "stdout",
     "output_type": "stream",
     "text": [
      "<class 'pandas.core.frame.DataFrame'>\n",
      "RangeIndex: 101 entries, 0 to 100\n",
      "Data columns (total 10 columns):\n",
      " #   Column                       Non-Null Count  Dtype\n",
      "---  ------                       --------------  -----\n",
      " 0   Id                           101 non-null    int64\n",
      " 1   clump_thickness              101 non-null    int64\n",
      " 2   uniformity_of_cell_size      101 non-null    int64\n",
      " 3   uniformity_of_cell_shape     101 non-null    int64\n",
      " 4   marginal_adhesion            101 non-null    int64\n",
      " 5   single_epithelial_cell_size  101 non-null    int64\n",
      " 6   bare_nuclei                  101 non-null    int64\n",
      " 7   bland_chromatin              101 non-null    int64\n",
      " 8   normal_nucleoli              101 non-null    int64\n",
      " 9   mitosis                      101 non-null    int64\n",
      "dtypes: int64(10)\n",
      "memory usage: 8.0 KB\n"
     ]
    }
   ],
   "source": [
    "df = pd.read_csv(\"../input/breast-cancer/train.csv\",header = 0)\n",
    "final =pd.read_csv(\"../input/breast-cancer/test.csv\",header = 0)\n",
    "final.info()"
   ]
  },
  {
   "cell_type": "code",
   "execution_count": 3,
   "metadata": {
    "execution": {
     "iopub.execute_input": "2020-08-13T10:37:42.340336Z",
     "iopub.status.busy": "2020-08-13T10:37:42.339387Z",
     "iopub.status.idle": "2020-08-13T10:37:42.355801Z",
     "shell.execute_reply": "2020-08-13T10:37:42.355018Z"
    },
    "papermill": {
     "duration": 0.045304,
     "end_time": "2020-08-13T10:37:42.355931",
     "exception": false,
     "start_time": "2020-08-13T10:37:42.310627",
     "status": "completed"
    },
    "tags": []
   },
   "outputs": [
    {
     "data": {
      "text/html": [
       "<div>\n",
       "<style scoped>\n",
       "    .dataframe tbody tr th:only-of-type {\n",
       "        vertical-align: middle;\n",
       "    }\n",
       "\n",
       "    .dataframe tbody tr th {\n",
       "        vertical-align: top;\n",
       "    }\n",
       "\n",
       "    .dataframe thead th {\n",
       "        text-align: right;\n",
       "    }\n",
       "</style>\n",
       "<table border=\"1\" class=\"dataframe\">\n",
       "  <thead>\n",
       "    <tr style=\"text-align: right;\">\n",
       "      <th></th>\n",
       "      <th>Id</th>\n",
       "      <th>clump_thickness</th>\n",
       "      <th>uniformity_of_cell_size</th>\n",
       "      <th>uniformity_of_cell_shape</th>\n",
       "      <th>marginal_adhesion</th>\n",
       "      <th>single_epithelial_cell_size</th>\n",
       "      <th>bare_nuclei</th>\n",
       "      <th>bland_chromatin</th>\n",
       "      <th>normal_nucleoli</th>\n",
       "      <th>mitosis</th>\n",
       "    </tr>\n",
       "  </thead>\n",
       "  <tbody>\n",
       "    <tr>\n",
       "      <th>0</th>\n",
       "      <td>1</td>\n",
       "      <td>5</td>\n",
       "      <td>1</td>\n",
       "      <td>1</td>\n",
       "      <td>1</td>\n",
       "      <td>2</td>\n",
       "      <td>1</td>\n",
       "      <td>3</td>\n",
       "      <td>1</td>\n",
       "      <td>1</td>\n",
       "    </tr>\n",
       "    <tr>\n",
       "      <th>1</th>\n",
       "      <td>2</td>\n",
       "      <td>5</td>\n",
       "      <td>4</td>\n",
       "      <td>4</td>\n",
       "      <td>5</td>\n",
       "      <td>7</td>\n",
       "      <td>10</td>\n",
       "      <td>3</td>\n",
       "      <td>2</td>\n",
       "      <td>1</td>\n",
       "    </tr>\n",
       "    <tr>\n",
       "      <th>2</th>\n",
       "      <td>3</td>\n",
       "      <td>3</td>\n",
       "      <td>1</td>\n",
       "      <td>1</td>\n",
       "      <td>1</td>\n",
       "      <td>2</td>\n",
       "      <td>2</td>\n",
       "      <td>3</td>\n",
       "      <td>1</td>\n",
       "      <td>1</td>\n",
       "    </tr>\n",
       "    <tr>\n",
       "      <th>3</th>\n",
       "      <td>4</td>\n",
       "      <td>6</td>\n",
       "      <td>8</td>\n",
       "      <td>8</td>\n",
       "      <td>1</td>\n",
       "      <td>3</td>\n",
       "      <td>4</td>\n",
       "      <td>3</td>\n",
       "      <td>7</td>\n",
       "      <td>1</td>\n",
       "    </tr>\n",
       "    <tr>\n",
       "      <th>4</th>\n",
       "      <td>5</td>\n",
       "      <td>4</td>\n",
       "      <td>1</td>\n",
       "      <td>1</td>\n",
       "      <td>3</td>\n",
       "      <td>2</td>\n",
       "      <td>1</td>\n",
       "      <td>3</td>\n",
       "      <td>1</td>\n",
       "      <td>1</td>\n",
       "    </tr>\n",
       "    <tr>\n",
       "      <th>...</th>\n",
       "      <td>...</td>\n",
       "      <td>...</td>\n",
       "      <td>...</td>\n",
       "      <td>...</td>\n",
       "      <td>...</td>\n",
       "      <td>...</td>\n",
       "      <td>...</td>\n",
       "      <td>...</td>\n",
       "      <td>...</td>\n",
       "      <td>...</td>\n",
       "    </tr>\n",
       "    <tr>\n",
       "      <th>463</th>\n",
       "      <td>464</td>\n",
       "      <td>4</td>\n",
       "      <td>1</td>\n",
       "      <td>1</td>\n",
       "      <td>1</td>\n",
       "      <td>2</td>\n",
       "      <td>1</td>\n",
       "      <td>1</td>\n",
       "      <td>2</td>\n",
       "      <td>1</td>\n",
       "    </tr>\n",
       "    <tr>\n",
       "      <th>464</th>\n",
       "      <td>465</td>\n",
       "      <td>4</td>\n",
       "      <td>1</td>\n",
       "      <td>1</td>\n",
       "      <td>1</td>\n",
       "      <td>2</td>\n",
       "      <td>1</td>\n",
       "      <td>1</td>\n",
       "      <td>1</td>\n",
       "      <td>1</td>\n",
       "    </tr>\n",
       "    <tr>\n",
       "      <th>465</th>\n",
       "      <td>466</td>\n",
       "      <td>10</td>\n",
       "      <td>9</td>\n",
       "      <td>8</td>\n",
       "      <td>7</td>\n",
       "      <td>6</td>\n",
       "      <td>4</td>\n",
       "      <td>7</td>\n",
       "      <td>10</td>\n",
       "      <td>3</td>\n",
       "    </tr>\n",
       "    <tr>\n",
       "      <th>466</th>\n",
       "      <td>467</td>\n",
       "      <td>10</td>\n",
       "      <td>6</td>\n",
       "      <td>6</td>\n",
       "      <td>2</td>\n",
       "      <td>4</td>\n",
       "      <td>10</td>\n",
       "      <td>9</td>\n",
       "      <td>7</td>\n",
       "      <td>1</td>\n",
       "    </tr>\n",
       "    <tr>\n",
       "      <th>467</th>\n",
       "      <td>468</td>\n",
       "      <td>6</td>\n",
       "      <td>6</td>\n",
       "      <td>6</td>\n",
       "      <td>5</td>\n",
       "      <td>4</td>\n",
       "      <td>10</td>\n",
       "      <td>7</td>\n",
       "      <td>6</td>\n",
       "      <td>2</td>\n",
       "    </tr>\n",
       "  </tbody>\n",
       "</table>\n",
       "<p>468 rows × 10 columns</p>\n",
       "</div>"
      ],
      "text/plain": [
       "      Id  clump_thickness  uniformity_of_cell_size  uniformity_of_cell_shape  \\\n",
       "0      1                5                        1                         1   \n",
       "1      2                5                        4                         4   \n",
       "2      3                3                        1                         1   \n",
       "3      4                6                        8                         8   \n",
       "4      5                4                        1                         1   \n",
       "..   ...              ...                      ...                       ...   \n",
       "463  464                4                        1                         1   \n",
       "464  465                4                        1                         1   \n",
       "465  466               10                        9                         8   \n",
       "466  467               10                        6                         6   \n",
       "467  468                6                        6                         6   \n",
       "\n",
       "     marginal_adhesion  single_epithelial_cell_size  bare_nuclei  \\\n",
       "0                    1                            2            1   \n",
       "1                    5                            7           10   \n",
       "2                    1                            2            2   \n",
       "3                    1                            3            4   \n",
       "4                    3                            2            1   \n",
       "..                 ...                          ...          ...   \n",
       "463                  1                            2            1   \n",
       "464                  1                            2            1   \n",
       "465                  7                            6            4   \n",
       "466                  2                            4           10   \n",
       "467                  5                            4           10   \n",
       "\n",
       "     bland_chromatin  normal_nucleoli  mitosis  \n",
       "0                  3                1        1  \n",
       "1                  3                2        1  \n",
       "2                  3                1        1  \n",
       "3                  3                7        1  \n",
       "4                  3                1        1  \n",
       "..               ...              ...      ...  \n",
       "463                1                2        1  \n",
       "464                1                1        1  \n",
       "465                7               10        3  \n",
       "466                9                7        1  \n",
       "467                7                6        2  \n",
       "\n",
       "[468 rows x 10 columns]"
      ]
     },
     "execution_count": 3,
     "metadata": {},
     "output_type": "execute_result"
    }
   ],
   "source": [
    "X = df.drop(['class'], axis = 1)\n",
    "y = df['class']\n",
    "X"
   ]
  },
  {
   "cell_type": "code",
   "execution_count": 4,
   "metadata": {
    "execution": {
     "iopub.execute_input": "2020-08-13T10:37:42.386213Z",
     "iopub.status.busy": "2020-08-13T10:37:42.385436Z",
     "iopub.status.idle": "2020-08-13T10:37:43.421978Z",
     "shell.execute_reply": "2020-08-13T10:37:43.422591Z"
    },
    "papermill": {
     "duration": 1.055001,
     "end_time": "2020-08-13T10:37:43.422820",
     "exception": false,
     "start_time": "2020-08-13T10:37:42.367819",
     "status": "completed"
    },
    "tags": []
   },
   "outputs": [],
   "source": [
    "from sklearn.model_selection import train_test_split\n",
    "\n",
    "X_train, X_test, y_train, y_test = train_test_split(X, y, test_size = 0.3, random_state = 42)"
   ]
  },
  {
   "cell_type": "code",
   "execution_count": 5,
   "metadata": {
    "execution": {
     "iopub.execute_input": "2020-08-13T10:37:43.454781Z",
     "iopub.status.busy": "2020-08-13T10:37:43.453965Z",
     "iopub.status.idle": "2020-08-13T10:37:43.629764Z",
     "shell.execute_reply": "2020-08-13T10:37:43.630474Z"
    },
    "papermill": {
     "duration": 0.195891,
     "end_time": "2020-08-13T10:37:43.630670",
     "exception": false,
     "start_time": "2020-08-13T10:37:43.434779",
     "status": "completed"
    },
    "tags": []
   },
   "outputs": [
    {
     "name": "stdout",
     "output_type": "stream",
     "text": [
      "[2 2 2 2 2 2 2 2 2 2 2 4 2 2 4 4 2 2 2 4 4 2 2 4 2 4 2 2 2 2 2 2 2 2 2 2 2\n",
      " 2 4 2 2 2 2 2 2 2 4 4 2 2 2 4 2 2 4 4 2 2 2 2 2 2 4 2 2 2 2 2 2 2 2 2 2 2\n",
      " 2 2 2 2 4 2 2 4 2 2 2 2 2 2 2 2 2 2 2 2 2 2 2 4 2 2 4]\n"
     ]
    },
    {
     "name": "stderr",
     "output_type": "stream",
     "text": [
      "/opt/conda/lib/python3.7/site-packages/sklearn/linear_model/_logistic.py:764: ConvergenceWarning: lbfgs failed to converge (status=1):\n",
      "STOP: TOTAL NO. of ITERATIONS REACHED LIMIT.\n",
      "\n",
      "Increase the number of iterations (max_iter) or scale the data as shown in:\n",
      "    https://scikit-learn.org/stable/modules/preprocessing.html\n",
      "Please also refer to the documentation for alternative solver options:\n",
      "    https://scikit-learn.org/stable/modules/linear_model.html#logistic-regression\n",
      "  extra_warning_msg=_LOGISTIC_SOLVER_CONVERGENCE_MSG)\n"
     ]
    }
   ],
   "source": [
    "from sklearn.linear_model import LogisticRegression\n",
    "from sklearn.svm import LinearSVC\n",
    "\n",
    "'''for C, marker in zip([0.001, 1, 100], ['o', '^', 'v']):\n",
    "    lr_l1 = LogisticRegression(C=C, penalty=\"l2\").fit(X_train, y_train)\n",
    "    print(\"Training accuracy of l1 logreg with C={:.6f}: {:.6f}\".format(\n",
    "    C, lr_l1.score(X_train, y_train)))\n",
    "    print(\"Test accuracy of l1 logreg with C={:.6f}: {:.6f}\".format(\n",
    "    C, lr_l1.score(X_test, y_test)))'''\n",
    "    \n",
    "lr = LogisticRegression(C=0.001, penalty=\"l2\").fit(X_train, y_train)\n",
    "y_pred=lr.predict(final)\n",
    "print(y_pred)"
   ]
  },
  {
   "cell_type": "code",
   "execution_count": 6,
   "metadata": {
    "execution": {
     "iopub.execute_input": "2020-08-13T10:37:43.666039Z",
     "iopub.status.busy": "2020-08-13T10:37:43.664926Z",
     "iopub.status.idle": "2020-08-13T10:37:43.670031Z",
     "shell.execute_reply": "2020-08-13T10:37:43.669249Z"
    },
    "papermill": {
     "duration": 0.024311,
     "end_time": "2020-08-13T10:37:43.670161",
     "exception": false,
     "start_time": "2020-08-13T10:37:43.645850",
     "status": "completed"
    },
    "tags": []
   },
   "outputs": [
    {
     "data": {
      "text/plain": [
       "'from sklearn.tree import DecisionTreeClassifier\\ntree = DecisionTreeClassifier(random_state=0)\\ntree.fit(X_train, y_train)\\nprint(\"Accuracy on training set: {}\".format(tree.score(X_train, y_train)))\\nprint(\"Accuracy on test set: {}\".format(tree.score(X_test, y_test)))'"
      ]
     },
     "execution_count": 6,
     "metadata": {},
     "output_type": "execute_result"
    }
   ],
   "source": [
    "'''from sklearn.tree import DecisionTreeClassifier\n",
    "tree = DecisionTreeClassifier(random_state=0)\n",
    "tree.fit(X_train, y_train)\n",
    "print(\"Accuracy on training set: {}\".format(tree.score(X_train, y_train)))\n",
    "print(\"Accuracy on test set: {}\".format(tree.score(X_test, y_test)))'''"
   ]
  },
  {
   "cell_type": "code",
   "execution_count": 7,
   "metadata": {
    "execution": {
     "iopub.execute_input": "2020-08-13T10:37:43.705987Z",
     "iopub.status.busy": "2020-08-13T10:37:43.704853Z",
     "iopub.status.idle": "2020-08-13T10:37:43.709692Z",
     "shell.execute_reply": "2020-08-13T10:37:43.708919Z"
    },
    "papermill": {
     "duration": 0.026064,
     "end_time": "2020-08-13T10:37:43.709831",
     "exception": false,
     "start_time": "2020-08-13T10:37:43.683767",
     "status": "completed"
    },
    "tags": []
   },
   "outputs": [
    {
     "data": {
      "text/plain": [
       "'gbrt = GradientBoostingClassifier(random_state=0, max_depth=2)\\ngbrt.fit(X_train, y_train)\\nprint(\"Accuracy on training set: {}\".format(gbrt.score(X_train, y_train)))\\nprint(\"Accuracy on test set: {}\".format(gbrt.score(X_test, y_test)))'"
      ]
     },
     "execution_count": 7,
     "metadata": {},
     "output_type": "execute_result"
    }
   ],
   "source": [
    "'''gbrt = GradientBoostingClassifier(random_state=0, max_depth=2)\n",
    "gbrt.fit(X_train, y_train)\n",
    "print(\"Accuracy on training set: {}\".format(gbrt.score(X_train, y_train)))\n",
    "print(\"Accuracy on test set: {}\".format(gbrt.score(X_test, y_test)))'''"
   ]
  },
  {
   "cell_type": "code",
   "execution_count": 8,
   "metadata": {
    "execution": {
     "iopub.execute_input": "2020-08-13T10:37:43.747004Z",
     "iopub.status.busy": "2020-08-13T10:37:43.746038Z",
     "iopub.status.idle": "2020-08-13T10:37:43.974560Z",
     "shell.execute_reply": "2020-08-13T10:37:43.973891Z"
    },
    "papermill": {
     "duration": 0.250709,
     "end_time": "2020-08-13T10:37:43.974714",
     "exception": false,
     "start_time": "2020-08-13T10:37:43.724005",
     "status": "completed"
    },
    "tags": []
   },
   "outputs": [
    {
     "name": "stdout",
     "output_type": "stream",
     "text": [
      "Accuracy on training set: 0.9908256880733946\n",
      "Accuracy on test set: 0.9645390070921985\n",
      "[2 2 2 2 2 2 2 2 2 2 2 4 2 2 4 4 2 2 2 4 4 4 2 4 2 4 4 2 2 2 2 2 2 2 2 2 2\n",
      " 2 4 2 2 2 2 2 2 2 4 4 2 2 2 4 2 2 4 4 2 2 2 2 2 2 4 2 2 2 2 2 2 2 2 2 2 2\n",
      " 2 2 2 2 4 2 2 4 2 2 2 2 2 2 2 2 2 2 2 2 2 2 2 4 2 2 4]\n"
     ]
    }
   ],
   "source": [
    "from sklearn.ensemble import GradientBoostingClassifier\n",
    "gbrt = GradientBoostingClassifier(random_state=0, learning_rate=0.1 ,max_depth=2)\n",
    "gbrt.fit(X_train, y_train)\n",
    "print(\"Accuracy on training set: {}\".format(gbrt.score(X_train, y_train)))\n",
    "print(\"Accuracy on test set: {}\".format(gbrt.score(X_test, y_test)))\n",
    "\n",
    "y_predct=gbrt.predict(final)\n",
    "print(y_predct)"
   ]
  },
  {
   "cell_type": "markdown",
   "execution_count": null,
   "metadata": {
    "papermill": {
     "duration": 0.015708,
     "end_time": "2020-08-13T10:37:44.005313",
     "exception": false,
     "start_time": "2020-08-13T10:37:43.989605",
     "status": "completed"
    },
    "tags": []
   },
   "source": [
    "Submission"
   ]
  },
  {
   "cell_type": "code",
   "execution_count": 9,
   "metadata": {
    "execution": {
     "iopub.execute_input": "2020-08-13T10:37:44.043094Z",
     "iopub.status.busy": "2020-08-13T10:37:44.042260Z",
     "iopub.status.idle": "2020-08-13T10:37:44.163293Z",
     "shell.execute_reply": "2020-08-13T10:37:44.162478Z"
    },
    "papermill": {
     "duration": 0.142763,
     "end_time": "2020-08-13T10:37:44.163457",
     "exception": false,
     "start_time": "2020-08-13T10:37:44.020694",
     "status": "completed"
    },
    "tags": []
   },
   "outputs": [],
   "source": [
    "my_submission = pd.DataFrame({'Id': final.Id, 'class': y_predct})\n",
    "my_submission.to_csv('submission.csv', index=False)\n"
   ]
  },
  {
   "cell_type": "code",
   "execution_count": 10,
   "metadata": {
    "execution": {
     "iopub.execute_input": "2020-08-13T10:37:44.199251Z",
     "iopub.status.busy": "2020-08-13T10:37:44.198098Z",
     "iopub.status.idle": "2020-08-13T10:37:44.201865Z",
     "shell.execute_reply": "2020-08-13T10:37:44.202492Z"
    },
    "papermill": {
     "duration": 0.024439,
     "end_time": "2020-08-13T10:37:44.202656",
     "exception": false,
     "start_time": "2020-08-13T10:37:44.178217",
     "status": "completed"
    },
    "tags": []
   },
   "outputs": [
    {
     "data": {
      "text/plain": [
       "\"my_submission2 = pd.DataFrame({'Id': final.Id, 'class': y_pred})\\nmy_submission2.to_csv('submission2.csv', index=False)\""
      ]
     },
     "execution_count": 10,
     "metadata": {},
     "output_type": "execute_result"
    }
   ],
   "source": [
    "'''my_submission2 = pd.DataFrame({'Id': final.Id, 'class': y_pred})\n",
    "my_submission2.to_csv('submission2.csv', index=False)'''\n"
   ]
  }
 ],
 "metadata": {
  "kernelspec": {
   "display_name": "Python 3",
   "language": "python",
   "name": "python3"
  },
  "language_info": {
   "codemirror_mode": {
    "name": "ipython",
    "version": 3
   },
   "file_extension": ".py",
   "mimetype": "text/x-python",
   "name": "python",
   "nbconvert_exporter": "python",
   "pygments_lexer": "ipython3",
   "version": "3.7.6"
  },
  "papermill": {
   "duration": 7.732538,
   "end_time": "2020-08-13T10:37:44.325627",
   "environment_variables": {},
   "exception": null,
   "input_path": "__notebook__.ipynb",
   "output_path": "__notebook__.ipynb",
   "parameters": {},
   "start_time": "2020-08-13T10:37:36.593089",
   "version": "2.1.0"
  }
 },
 "nbformat": 4,
 "nbformat_minor": 4
}
